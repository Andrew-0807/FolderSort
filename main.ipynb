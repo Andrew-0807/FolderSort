{
 "cells": [
  {
   "cell_type": "code",
   "execution_count": 87,
   "metadata": {},
   "outputs": [],
   "source": [
    "import os\n",
    "import shutil\n",
    "Dpath = \"C:/Users/andre/Downloads\" \n",
    "os.chdir(Dpath)"
   ]
  },
  {
   "cell_type": "code",
   "execution_count": 88,
   "metadata": {},
   "outputs": [],
   "source": [
    "def sort(file, extenxion):\n",
    "    # print(file, \"   \", extenxion)\n",
    "    #creates folder for file type\n",
    "    folder = f\"type-{extenxion}\"\n",
    "    print (folder)\n",
    "    try:\n",
    "        os.mkdir(folder)\n",
    "    except:\n",
    "        pass\n",
    "    \n",
    "    try:\n",
    "        shutil.move(Dpath+\"/\"+file, Dpath+\"/\"+folder)\n",
    "    except:\n",
    "        print(file, \" is running in background\")\n",
    " \n",
    "    "
   ]
  },
  {
   "cell_type": "code",
   "execution_count": 89,
   "metadata": {},
   "outputs": [
    {
     "name": "stdout",
     "output_type": "stream",
     "text": [
      "type-dll\n",
      "OldNewExplorer64.dll  is running in background\n"
     ]
    },
    {
     "ename": "",
     "evalue": "",
     "output_type": "error",
     "traceback": [
      "\u001b[1;31mThe Kernel crashed while executing code in the current cell or a previous cell. \n",
      "\u001b[1;31mPlease review the code in the cell(s) to identify a possible cause of the failure. \n",
      "\u001b[1;31mClick <a href='https://aka.ms/vscodeJupyterKernelCrash'>here</a> for more info. \n",
      "\u001b[1;31mView Jupyter <a href='command:jupyter.viewOutput'>log</a> for further details."
     ]
    }
   ],
   "source": [
    "files = os.listdir(\"C:/Users/andre/Downloads\")\n",
    "for file in files:\n",
    "    if file.startswith(\"type\"): \n",
    "        continue\n",
    "    extension = file.split(\".\")[-1]\n",
    "    if extension == file:\n",
    "        extension = \"folder\"\n",
    "    sort(file, extension)"
   ]
  }
 ],
 "metadata": {
  "kernelspec": {
   "display_name": "Python 3",
   "language": "python",
   "name": "python3"
  },
  "language_info": {
   "codemirror_mode": {
    "name": "ipython",
    "version": 3
   },
   "file_extension": ".py",
   "mimetype": "text/x-python",
   "name": "python",
   "nbconvert_exporter": "python",
   "pygments_lexer": "ipython3",
   "version": "3.11.6"
  }
 },
 "nbformat": 4,
 "nbformat_minor": 2
}
